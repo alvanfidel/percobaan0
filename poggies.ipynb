{
 "cells": [
  {
   "cell_type": "code",
   "execution_count": 5,
   "metadata": {
    "slideshow": {
     "slide_type": "slide"
    }
   },
   "outputs": [
    {
     "name": "stdout",
     "output_type": "stream",
     "text": [
      "hello van\n"
     ]
    }
   ],
   "source": [
    "print ('hello van')"
   ]
  },
  {
   "cell_type": "markdown",
   "metadata": {
    "slideshow": {
     "slide_type": "slide"
    }
   },
   "source": [
    "# coba bikin grafik\n",
    "permulaan nih"
   ]
  },
  {
   "cell_type": "code",
   "execution_count": 6,
   "metadata": {
    "slideshow": {
     "slide_type": "slide"
    }
   },
   "outputs": [],
   "source": [
    "x=[7,1,7,7,7,4,4]\n",
    "y=[1,2,3,7,3,2.5,5]"
   ]
  },
  {
   "cell_type": "code",
   "execution_count": 7,
   "metadata": {
    "slideshow": {
     "slide_type": "slide"
    }
   },
   "outputs": [],
   "source": [
    "import matplotlib.pyplot as gege"
   ]
  },
  {
   "cell_type": "code",
   "execution_count": 8,
   "metadata": {
    "slideshow": {
     "slide_type": "slide"
    }
   },
   "outputs": [
    {
     "data": {
      "image/png": "[encoded data removed]",
      "text/plain": [
       "<Figure size 432x288 with 1 Axes>"
      ]
     },
     "metadata": {
      "needs_background": "light"
     },
     "output_type": "display_data"
    }
   ],
   "source": [
    "gege.plot(y,x)\n",
    "gege.show()"
   ]
  },
  {
   "cell_type": "markdown",
   "metadata": {},
   "source": [
    "Cognitive Class"
   ]
  },
  {
   "cell_type": "markdown",
   "metadata": {},
   "source": [
    "www.youtube.com"
   ]
  },
  {
   "cell_type": "markdown",
   "metadata": {},
   "source": [
    "|jenis|jumlahnya|warna|\n",
    "|-|-|-|\n",
    "|pakaian p       |5 bijdwadfdwadfwafwafwafai| merah |\n",
    "|gadget|10 buah | hitam |\n",
    "|makanan| tak terhitung | putih|"
   ]
  },
  {
   "cell_type": "markdown",
   "metadata": {},
   "source": [
    "# pembatas"
   ]
  },
  {
   "cell_type": "markdown",
   "metadata": {},
   "source": []
  },
  {
   "cell_type": "markdown",
   "metadata": {},
   "source": [
    "*alvan* italic atau gini juga italic _alvan_\n",
    "\n",
    "**fidel** bold\n",
    "\n",
    "**_alvan_** ini bold dan miring juga **alvan _fidel_**\n",
    "\n",
    "~alfan~\n",
    "\n",
    "~~alfan~~"
   ]
  },
  {
   "cell_type": "markdown",
   "metadata": {},
   "source": [
    "+ apakah\n",
    "- bagaimanakah\n",
    "* ayaya\n"
   ]
  },
  {
   "cell_type": "markdown",
   "metadata": {},
   "source": [
    "Inline-style: \n",
    "![alt text](https://github.com/adam-p/markdown-here/raw/master/src/common/images/icon48.png \"Logo Title Text 1\")"
   ]
  },
  {
   "cell_type": "markdown",
   "metadata": {},
   "source": [
    "<a href=\"http://www.youtube.com/watch?feature=player_embedded&v=6LmFT00wY68\n",
    "\" target=\"_blank\"><img src=\"https://scontent.fkno6-1.fna.fbcdn.net/v/t1.0-9/s960x960/120650038_108620501011825_2468552655739445291_o.jpg?_nc_cat=110&ccb=3&_nc_sid=110474&_nc_ohc=U-DW9ctlXTwAX8Z1gO0&_nc_ht=scontent.fkno6-1.fna&tp=7&oh=7eddc464ba90a2e51966af259cafdb1e&oe=605E4C4A\" \n",
    "alt=\"IMAGE ALT TEXT HERE\" width=\"30\" height=\"30\" border=\"10\" /></a>"
   ]
  },
  {
   "cell_type": "markdown",
   "metadata": {},
   "source": [
    "[![budog](https://scontent.fkno6-1.fna.fbcdn.net/v/t1.0-9/s960x960/120650038_108620501011825_2468552655739445291_o.jpg?_nc_cat=110&ccb=3&_nc_sid=110474&_nc_ohc=U-DW9ctlXTwAX8Z1gO0&_nc_ht=scontent.fkno6-1.fna&tp=7&oh=7eddc464ba90a2e51966af259cafdb1e&oe=605E4C4A)](http://www.youtube.com/watch?v=6LmFT00wY68)"
   ]
  }
 ],
 "metadata": {
  "kernelspec": {
   "display_name": "Python",
   "language": "python",
   "name": "conda-env-python-py"
  },
  "language_info": {
   "codemirror_mode": {
    "name": "ipython",
    "version": 3
   },
   "file_extension": ".py",
   "mimetype": "text/x-python",
   "name": "python",
   "nbconvert_exporter": "python",
   "pygments_lexer": "ipython3",
   "version": "3.6.12"
  }
 },
 "nbformat": 4,
 "nbformat_minor": 4
}
